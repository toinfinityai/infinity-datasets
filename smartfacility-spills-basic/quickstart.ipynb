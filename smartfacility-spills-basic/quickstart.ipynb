{
 "cells": [
  {
   "cell_type": "markdown",
   "id": "fecba5d8",
   "metadata": {},
   "source": [
    "# Smart Facility: Spills Basic Dataset - Demo Notebook\n",
    "\n",
    "Demo 1: Filtering/querying the dataset based on metadata.  \n",
    "Demo 2: Visualizing labels for a specific video.\n",
    "\n",
    "Note: this notebook relies on the `infinity-tools` python module, which can be installed following instructions [here](https://github.com/toinfinityai/infinity-tools#installation)."
   ]
  },
  {
   "cell_type": "code",
   "execution_count": 1,
   "id": "28322940",
   "metadata": {},
   "outputs": [],
   "source": [
    "import os\n",
    "import glob\n",
    "import json\n",
    "import shutil\n",
    "import pandas as pd\n",
    "from pycocotools.coco import COCO\n",
    "from IPython.display import clear_output\n",
    "from infinity_tools.spills import vis\n",
    "from infinity_tools.common.vis.videos import parse_video_frames, stack_videos"
   ]
  },
  {
   "cell_type": "markdown",
   "id": "d2772853",
   "metadata": {},
   "source": [
    "## Demo 1: Dataset Filtering\n",
    "\n",
    "We first show how to load the dataset's metadata into an easily filtered dataframe."
   ]
  },
  {
   "cell_type": "code",
   "execution_count": 2,
   "id": "990ef92f",
   "metadata": {},
   "outputs": [],
   "source": [
    "PATH_TO_DATASET_FOLDER = \"PATH_TO_DATASET_FOLDER\""
   ]
  },
  {
   "cell_type": "code",
   "execution_count": 3,
   "id": "26a52a41",
   "metadata": {},
   "outputs": [
    {
     "data": {
      "text/html": [
       "<div>\n",
       "<style scoped>\n",
       "    .dataframe tbody tr th:only-of-type {\n",
       "        vertical-align: middle;\n",
       "    }\n",
       "\n",
       "    .dataframe tbody tr th {\n",
       "        vertical-align: top;\n",
       "    }\n",
       "\n",
       "    .dataframe thead th {\n",
       "        text-align: right;\n",
       "    }\n",
       "</style>\n",
       "<table border=\"1\" class=\"dataframe\">\n",
       "  <thead>\n",
       "    <tr style=\"text-align: right;\">\n",
       "      <th></th>\n",
       "      <th>video_number</th>\n",
       "      <th>scene</th>\n",
       "      <th>color</th>\n",
       "      <th>size</th>\n",
       "      <th>aspect_ratio</th>\n",
       "      <th>profile_irregularity</th>\n",
       "      <th>depth</th>\n",
       "      <th>frame_rate</th>\n",
       "      <th>video_duration</th>\n",
       "      <th>random_seed</th>\n",
       "    </tr>\n",
       "  </thead>\n",
       "  <tbody>\n",
       "    <tr>\n",
       "      <th>0</th>\n",
       "      <td>00000</td>\n",
       "      <td>WAREHOUSE_0002</td>\n",
       "      <td>red</td>\n",
       "      <td>62.547932</td>\n",
       "      <td>1.693397</td>\n",
       "      <td>0.424591</td>\n",
       "      <td>1.411789</td>\n",
       "      <td>24</td>\n",
       "      <td>6.377851</td>\n",
       "      <td>1916477150</td>\n",
       "    </tr>\n",
       "    <tr>\n",
       "      <th>1</th>\n",
       "      <td>00001</td>\n",
       "      <td>WAREHOUSE_0004</td>\n",
       "      <td>transparent</td>\n",
       "      <td>100.000000</td>\n",
       "      <td>1.731358</td>\n",
       "      <td>0.458503</td>\n",
       "      <td>1.118880</td>\n",
       "      <td>24</td>\n",
       "      <td>10.997811</td>\n",
       "      <td>465231991</td>\n",
       "    </tr>\n",
       "    <tr>\n",
       "      <th>2</th>\n",
       "      <td>00002</td>\n",
       "      <td>HOSPITAL_0001</td>\n",
       "      <td>dark_green</td>\n",
       "      <td>46.094629</td>\n",
       "      <td>1.842057</td>\n",
       "      <td>0.178404</td>\n",
       "      <td>1.456069</td>\n",
       "      <td>24</td>\n",
       "      <td>8.913092</td>\n",
       "      <td>513287503</td>\n",
       "    </tr>\n",
       "    <tr>\n",
       "      <th>3</th>\n",
       "      <td>00003</td>\n",
       "      <td>HOSPITAL_0002</td>\n",
       "      <td>transparent</td>\n",
       "      <td>37.981807</td>\n",
       "      <td>1.494779</td>\n",
       "      <td>0.211677</td>\n",
       "      <td>1.287602</td>\n",
       "      <td>24</td>\n",
       "      <td>6.953701</td>\n",
       "      <td>509504814</td>\n",
       "    </tr>\n",
       "    <tr>\n",
       "      <th>4</th>\n",
       "      <td>00004</td>\n",
       "      <td>GROCERY_0001</td>\n",
       "      <td>transparent</td>\n",
       "      <td>11.521043</td>\n",
       "      <td>2.011785</td>\n",
       "      <td>0.441531</td>\n",
       "      <td>1.996272</td>\n",
       "      <td>24</td>\n",
       "      <td>6.300116</td>\n",
       "      <td>1560628111</td>\n",
       "    </tr>\n",
       "  </tbody>\n",
       "</table>\n",
       "</div>"
      ],
      "text/plain": [
       "  video_number           scene        color        size  aspect_ratio  \\\n",
       "0        00000  WAREHOUSE_0002          red   62.547932      1.693397   \n",
       "1        00001  WAREHOUSE_0004  transparent  100.000000      1.731358   \n",
       "2        00002   HOSPITAL_0001   dark_green   46.094629      1.842057   \n",
       "3        00003   HOSPITAL_0002  transparent   37.981807      1.494779   \n",
       "4        00004    GROCERY_0001  transparent   11.521043      2.011785   \n",
       "\n",
       "   profile_irregularity     depth  frame_rate  video_duration  random_seed  \n",
       "0              0.424591  1.411789          24        6.377851   1916477150  \n",
       "1              0.458503  1.118880          24       10.997811    465231991  \n",
       "2              0.178404  1.456069          24        8.913092    513287503  \n",
       "3              0.211677  1.287602          24        6.953701    509504814  \n",
       "4              0.441531  1.996272          24        6.300116   1560628111  "
      ]
     },
     "execution_count": 3,
     "metadata": {},
     "output_type": "execute_result"
    }
   ],
   "source": [
    "all_param_paths = sorted(glob.glob(os.path.join(PATH_TO_DATASET_FOLDER, \"*_params.json\")))\n",
    "\n",
    "metadata = []\n",
    "for param_path in all_param_paths:\n",
    "    metadata_dict = {}\n",
    "    metadata_dict[\"video_number\"] = os.path.basename(param_path).split(\"_\")[0]\n",
    "    parameters = json.load(open(param_path))[\"params\"]\n",
    "    metadata_dict.update(parameters)\n",
    "    metadata.append(metadata_dict)\n",
    "\n",
    "metadata = pd.DataFrame(metadata)\n",
    "metadata.head()"
   ]
  },
  {
   "cell_type": "markdown",
   "id": "d51027f0",
   "metadata": {},
   "source": [
    "You can now filter and/or query the dataset for specific properties, as shown in the example below."
   ]
  },
  {
   "cell_type": "code",
   "execution_count": 4,
   "id": "44774292",
   "metadata": {},
   "outputs": [
    {
     "data": {
      "text/html": [
       "<div>\n",
       "<style scoped>\n",
       "    .dataframe tbody tr th:only-of-type {\n",
       "        vertical-align: middle;\n",
       "    }\n",
       "\n",
       "    .dataframe tbody tr th {\n",
       "        vertical-align: top;\n",
       "    }\n",
       "\n",
       "    .dataframe thead th {\n",
       "        text-align: right;\n",
       "    }\n",
       "</style>\n",
       "<table border=\"1\" class=\"dataframe\">\n",
       "  <thead>\n",
       "    <tr style=\"text-align: right;\">\n",
       "      <th></th>\n",
       "      <th>video_number</th>\n",
       "      <th>scene</th>\n",
       "      <th>color</th>\n",
       "      <th>size</th>\n",
       "      <th>aspect_ratio</th>\n",
       "      <th>profile_irregularity</th>\n",
       "      <th>depth</th>\n",
       "      <th>frame_rate</th>\n",
       "      <th>video_duration</th>\n",
       "      <th>random_seed</th>\n",
       "    </tr>\n",
       "  </thead>\n",
       "  <tbody>\n",
       "    <tr>\n",
       "      <th>12</th>\n",
       "      <td>00012</td>\n",
       "      <td>HOSPITAL_0002</td>\n",
       "      <td>transparent</td>\n",
       "      <td>55.204445</td>\n",
       "      <td>1.755085</td>\n",
       "      <td>0.474321</td>\n",
       "      <td>1.618665</td>\n",
       "      <td>24</td>\n",
       "      <td>5.903868</td>\n",
       "      <td>600965452</td>\n",
       "    </tr>\n",
       "    <tr>\n",
       "      <th>29</th>\n",
       "      <td>00029</td>\n",
       "      <td>HOSPITAL_0002</td>\n",
       "      <td>transparent</td>\n",
       "      <td>71.482705</td>\n",
       "      <td>1.877697</td>\n",
       "      <td>0.000000</td>\n",
       "      <td>1.769881</td>\n",
       "      <td>24</td>\n",
       "      <td>5.716090</td>\n",
       "      <td>1557554297</td>\n",
       "    </tr>\n",
       "  </tbody>\n",
       "</table>\n",
       "</div>"
      ],
      "text/plain": [
       "   video_number          scene        color       size  aspect_ratio  \\\n",
       "12        00012  HOSPITAL_0002  transparent  55.204445      1.755085   \n",
       "29        00029  HOSPITAL_0002  transparent  71.482705      1.877697   \n",
       "\n",
       "    profile_irregularity     depth  frame_rate  video_duration  random_seed  \n",
       "12              0.474321  1.618665          24        5.903868    600965452  \n",
       "29              0.000000  1.769881          24        5.716090   1557554297  "
      ]
     },
     "metadata": {},
     "output_type": "display_data"
    }
   ],
   "source": [
    "filtered_samples = metadata.query(\"scene == 'HOSPITAL_0002'\").query('video_duration < 6')\n",
    "display(filtered_samples.head())"
   ]
  },
  {
   "cell_type": "markdown",
   "id": "57719a56",
   "metadata": {},
   "source": [
    "## Demo 2: Label Visualization\n",
    "\n",
    "We next show how to visualize labels for a specific spills video. We do this using the dataset sample provided in the repo."
   ]
  },
  {
   "cell_type": "code",
   "execution_count": 5,
   "id": "8d09b196",
   "metadata": {},
   "outputs": [],
   "source": [
    "def visualize_all_labels(video_rgb_path: str) -> str:\n",
    "    \"\"\"Visualizes RGB, bounding boxes and segmentation masks in single video.\"\"\"\n",
    "\n",
    "    output_directory = os.path.dirname(video_rgb_path)\n",
    "    labels_path = video_rgb_path.replace(\".mp4\", \"_labels.json\")\n",
    "    seg_zip_path = video_rgb_path.replace(\".mp4\", \"_segmentation.zip\")\n",
    "    \n",
    "    seg_extracted_path = seg_zip_path.replace(\".zip\", \"\")\n",
    "    os.makedirs(seg_extracted_path, exist_ok=True)\n",
    "    vis.unzip(seg_zip_path, seg_extracted_path)\n",
    "\n",
    "    imgs = parse_video_frames(video_rgb_path)\n",
    "    image_dims = (imgs.shape[2], imgs.shape[1])\n",
    "    fps = 24\n",
    "    coco = COCO(labels_path)\n",
    "\n",
    "    bounding_box_path = vis.create_bounding_boxes_video(\n",
    "        os.path.join(output_directory, \"bounding_box.mp4\"), imgs, fps, coco, image_dims\n",
    "    )\n",
    "    segmentation_path = vis.create_segmentation_video(\n",
    "        os.path.join(output_directory, \"segmentation.mp4\"),\n",
    "        seg_extracted_path,\n",
    "        fps,\n",
    "        image_dims,\n",
    "    )\n",
    "\n",
    "    merged_video_path = stack_videos(\n",
    "        paths=[video_rgb_path, bounding_box_path, segmentation_path], \n",
    "        axis=2,\n",
    "        output_path=os.path.join(output_directory, \"labels.mp4\")\n",
    "    )\n",
    "    \n",
    "    remove_paths = [bounding_box_path, segmentation_path]\n",
    "    for e in remove_paths:\n",
    "        os.remove(e)\n",
    "    shutil.rmtree(seg_extracted_path)\n",
    "    clear_output()\n",
    "\n",
    "    return merged_video_path"
   ]
  },
  {
   "cell_type": "code",
   "execution_count": 6,
   "id": "4a5f7576",
   "metadata": {},
   "outputs": [
    {
     "name": "stdout",
     "output_type": "stream",
     "text": [
      "The resulting labels video can be viewed at: ./sample_data/labels.mp4\n"
     ]
    }
   ],
   "source": [
    "video_rgb_path = \"./sample_data/00000.mp4\"\n",
    "labels_video_path = visualize_all_labels(video_rgb_path)\n",
    "print(f\"The resulting labels video can be viewed at: {labels_video_path}\")"
   ]
  },
  {
   "cell_type": "code",
   "execution_count": null,
   "id": "3d40ed9f",
   "metadata": {},
   "outputs": [],
   "source": []
  }
 ],
 "metadata": {
  "kernelspec": {
   "display_name": "Python 3 (ipykernel)",
   "language": "python",
   "name": "python3"
  },
  "language_info": {
   "codemirror_mode": {
    "name": "ipython",
    "version": 3
   },
   "file_extension": ".py",
   "mimetype": "text/x-python",
   "name": "python",
   "nbconvert_exporter": "python",
   "pygments_lexer": "ipython3",
   "version": "3.9.12"
  }
 },
 "nbformat": 4,
 "nbformat_minor": 5
}
