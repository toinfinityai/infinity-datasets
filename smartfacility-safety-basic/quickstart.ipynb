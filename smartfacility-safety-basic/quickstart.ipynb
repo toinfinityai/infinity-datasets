{
 "cells": [
  {
   "cell_type": "markdown",
   "id": "fecba5d8",
   "metadata": {
    "pycharm": {
     "name": "#%% md\n"
    }
   },
   "source": [
    "# Smart Facility: Safety Basic Dataset - Demo Notebook\n",
    "\n",
    "Demo 1: Filtering/querying the dataset based on metadata.  \n",
    "Demo 2: Visualizing labels for a specific video.\n",
    "\n",
    "Note: this notebook relies on the `infinity-tools` python module, which can be installed by following the [installation instructions](https://github.com/toinfinityai/infinity-tools#installation)."
   ]
  },
  {
   "cell_type": "code",
   "execution_count": 1,
   "id": "28322940",
   "metadata": {
    "pycharm": {
     "name": "#%%\n"
    }
   },
   "outputs": [],
   "source": [
    "import os\n",
    "import glob\n",
    "import json\n",
    "import shutil\n",
    "import pandas as pd\n",
    "import zipfile\n",
    "from pycocotools.coco import COCO\n",
    "from IPython.display import clear_output\n",
    "from infinity_tools.visionfit import vis\n",
    "from infinity_tools.common.vis.videos import parse_video_frames, stack_videos"
   ]
  },
  {
   "cell_type": "markdown",
   "id": "d2772853",
   "metadata": {
    "pycharm": {
     "name": "#%% md\n"
    }
   },
   "source": [
    "## Demo 1: Dataset Filtering\n",
    "\n",
    "We first show how to load the dataset's metadata into an easily filtered dataframe."
   ]
  },
  {
   "cell_type": "code",
   "execution_count": 2,
   "id": "990ef92f",
   "metadata": {
    "pycharm": {
     "name": "#%%\n"
    }
   },
   "outputs": [],
   "source": [
    "PATH_TO_DATASET_FOLDER = \"PATH_TO_DATASET_FOLDER\""
   ]
  },
  {
   "cell_type": "code",
   "execution_count": 3,
   "id": "26a52a41",
   "metadata": {
    "pycharm": {
     "name": "#%%\n"
    }
   },
   "outputs": [
    {
     "data": {
      "text/html": [
       "<div>\n",
       "<style scoped>\n",
       "    .dataframe tbody tr th:only-of-type {\n",
       "        vertical-align: middle;\n",
       "    }\n",
       "\n",
       "    .dataframe tbody tr th {\n",
       "        vertical-align: top;\n",
       "    }\n",
       "\n",
       "    .dataframe thead th {\n",
       "        text-align: right;\n",
       "    }\n",
       "</style>\n",
       "<table border=\"1\" class=\"dataframe\">\n",
       "  <thead>\n",
       "    <tr style=\"text-align: right;\">\n",
       "      <th></th>\n",
       "      <th>video_number</th>\n",
       "      <th>video_duration</th>\n",
       "      <th>frame_rate</th>\n",
       "      <th>scene</th>\n",
       "      <th>max_dimension</th>\n",
       "      <th>num_people</th>\n",
       "      <th>random_seed</th>\n",
       "    </tr>\n",
       "  </thead>\n",
       "  <tbody>\n",
       "    <tr>\n",
       "      <th>0</th>\n",
       "      <td>00000</td>\n",
       "      <td>10.0</td>\n",
       "      <td>12</td>\n",
       "      <td>WAREHOUSE_0003</td>\n",
       "      <td>1080</td>\n",
       "      <td>5</td>\n",
       "      <td>53659</td>\n",
       "    </tr>\n",
       "    <tr>\n",
       "      <th>1</th>\n",
       "      <td>00001</td>\n",
       "      <td>10.0</td>\n",
       "      <td>12</td>\n",
       "      <td>WAREHOUSE_0003</td>\n",
       "      <td>1080</td>\n",
       "      <td>5</td>\n",
       "      <td>67874</td>\n",
       "    </tr>\n",
       "    <tr>\n",
       "      <th>2</th>\n",
       "      <td>00002</td>\n",
       "      <td>10.0</td>\n",
       "      <td>12</td>\n",
       "      <td>WAREHOUSE_0002</td>\n",
       "      <td>1080</td>\n",
       "      <td>5</td>\n",
       "      <td>4195</td>\n",
       "    </tr>\n",
       "    <tr>\n",
       "      <th>3</th>\n",
       "      <td>00003</td>\n",
       "      <td>10.0</td>\n",
       "      <td>12</td>\n",
       "      <td>WAREHOUSE_0002</td>\n",
       "      <td>1080</td>\n",
       "      <td>5</td>\n",
       "      <td>73521</td>\n",
       "    </tr>\n",
       "    <tr>\n",
       "      <th>4</th>\n",
       "      <td>00004</td>\n",
       "      <td>10.0</td>\n",
       "      <td>12</td>\n",
       "      <td>WAREHOUSE_0001</td>\n",
       "      <td>1080</td>\n",
       "      <td>5</td>\n",
       "      <td>22241</td>\n",
       "    </tr>\n",
       "  </tbody>\n",
       "</table>\n",
       "</div>"
      ],
      "text/plain": [
       "  video_number  video_duration  frame_rate           scene  max_dimension  \\\n",
       "0        00000            10.0          12  WAREHOUSE_0003           1080   \n",
       "1        00001            10.0          12  WAREHOUSE_0003           1080   \n",
       "2        00002            10.0          12  WAREHOUSE_0002           1080   \n",
       "3        00003            10.0          12  WAREHOUSE_0002           1080   \n",
       "4        00004            10.0          12  WAREHOUSE_0001           1080   \n",
       "\n",
       "   num_people  random_seed  \n",
       "0           5        53659  \n",
       "1           5        67874  \n",
       "2           5         4195  \n",
       "3           5        73521  \n",
       "4           5        22241  "
      ]
     },
     "execution_count": 3,
     "metadata": {},
     "output_type": "execute_result"
    }
   ],
   "source": [
    "all_param_paths = sorted(glob.glob(os.path.join(PATH_TO_DATASET_FOLDER, \"*_params.json\")))\n",
    "\n",
    "metadata = []\n",
    "for param_path in all_param_paths:\n",
    "    metadata_dict = {}\n",
    "    metadata_dict[\"video_number\"] = os.path.basename(param_path).split(\"_\")[0]\n",
    "    parameters = json.load(open(param_path))[\"params\"]\n",
    "    metadata_dict.update(parameters)\n",
    "    metadata.append(metadata_dict)\n",
    "\n",
    "metadata = pd.DataFrame(metadata)\n",
    "metadata.head()"
   ]
  },
  {
   "cell_type": "markdown",
   "id": "d51027f0",
   "metadata": {
    "pycharm": {
     "name": "#%% md\n"
    }
   },
   "source": [
    "You can now filter and/or query the dataset for specific properties, as shown in the example below."
   ]
  },
  {
   "cell_type": "code",
   "execution_count": 4,
   "id": "44774292",
   "metadata": {
    "pycharm": {
     "name": "#%%\n"
    }
   },
   "outputs": [
    {
     "data": {
      "text/html": [
       "<div>\n",
       "<style scoped>\n",
       "    .dataframe tbody tr th:only-of-type {\n",
       "        vertical-align: middle;\n",
       "    }\n",
       "\n",
       "    .dataframe tbody tr th {\n",
       "        vertical-align: top;\n",
       "    }\n",
       "\n",
       "    .dataframe thead th {\n",
       "        text-align: right;\n",
       "    }\n",
       "</style>\n",
       "<table border=\"1\" class=\"dataframe\">\n",
       "  <thead>\n",
       "    <tr style=\"text-align: right;\">\n",
       "      <th></th>\n",
       "      <th>video_number</th>\n",
       "      <th>video_duration</th>\n",
       "      <th>frame_rate</th>\n",
       "      <th>scene</th>\n",
       "      <th>max_dimension</th>\n",
       "      <th>num_people</th>\n",
       "      <th>random_seed</th>\n",
       "    </tr>\n",
       "  </thead>\n",
       "  <tbody>\n",
       "    <tr>\n",
       "      <th>4</th>\n",
       "      <td>00004</td>\n",
       "      <td>10.0</td>\n",
       "      <td>12</td>\n",
       "      <td>WAREHOUSE_0001</td>\n",
       "      <td>1080</td>\n",
       "      <td>5</td>\n",
       "      <td>22241</td>\n",
       "    </tr>\n",
       "    <tr>\n",
       "      <th>6</th>\n",
       "      <td>00006</td>\n",
       "      <td>10.0</td>\n",
       "      <td>12</td>\n",
       "      <td>WAREHOUSE_0001</td>\n",
       "      <td>1080</td>\n",
       "      <td>5</td>\n",
       "      <td>61404</td>\n",
       "    </tr>\n",
       "    <tr>\n",
       "      <th>7</th>\n",
       "      <td>00007</td>\n",
       "      <td>10.0</td>\n",
       "      <td>12</td>\n",
       "      <td>WAREHOUSE_0001</td>\n",
       "      <td>1080</td>\n",
       "      <td>5</td>\n",
       "      <td>63206</td>\n",
       "    </tr>\n",
       "    <tr>\n",
       "      <th>8</th>\n",
       "      <td>00008</td>\n",
       "      <td>10.0</td>\n",
       "      <td>12</td>\n",
       "      <td>WAREHOUSE_0001</td>\n",
       "      <td>1080</td>\n",
       "      <td>5</td>\n",
       "      <td>65632</td>\n",
       "    </tr>\n",
       "    <tr>\n",
       "      <th>9</th>\n",
       "      <td>00009</td>\n",
       "      <td>10.0</td>\n",
       "      <td>12</td>\n",
       "      <td>WAREHOUSE_0001</td>\n",
       "      <td>1080</td>\n",
       "      <td>5</td>\n",
       "      <td>68861</td>\n",
       "    </tr>\n",
       "  </tbody>\n",
       "</table>\n",
       "</div>"
      ],
      "text/plain": [
       "  video_number  video_duration  frame_rate           scene  max_dimension  \\\n",
       "4        00004            10.0          12  WAREHOUSE_0001           1080   \n",
       "6        00006            10.0          12  WAREHOUSE_0001           1080   \n",
       "7        00007            10.0          12  WAREHOUSE_0001           1080   \n",
       "8        00008            10.0          12  WAREHOUSE_0001           1080   \n",
       "9        00009            10.0          12  WAREHOUSE_0001           1080   \n",
       "\n",
       "   num_people  random_seed  \n",
       "4           5        22241  \n",
       "6           5        61404  \n",
       "7           5        63206  \n",
       "8           5        65632  \n",
       "9           5        68861  "
      ]
     },
     "metadata": {},
     "output_type": "display_data"
    }
   ],
   "source": [
    "filtered_samples = metadata.query(\"scene == 'WAREHOUSE_0001'\")\n",
    "display(filtered_samples.head())"
   ]
  },
  {
   "cell_type": "markdown",
   "id": "57719a56",
   "metadata": {
    "pycharm": {
     "name": "#%% md\n"
    }
   },
   "source": [
    "## Demo 2: Label Visualization\n",
    "\n",
    "We next show how to visualize labels for a specific inventory video. We do this using the dataset sample provided in the repo."
   ]
  },
  {
   "cell_type": "code",
   "execution_count": 5,
   "id": "8d09b196",
   "metadata": {
    "pycharm": {
     "name": "#%%\n"
    }
   },
   "outputs": [],
   "source": [
    "def visualize_all_labels(video_rgb_path: str) -> str:\n",
    "    \"\"\"Visualizes RGB, bounding boxes and segmentation masks in single video.\"\"\"\n",
    "\n",
    "    output_directory = os.path.dirname(video_rgb_path)\n",
    "    labels_path = video_rgb_path.replace(\".mp4\", \"_labels.json\")\n",
    "    seg_zip_path = video_rgb_path.replace(\".mp4\", \"_segmentation.zip\")\n",
    "    \n",
    "    seg_extracted_path = seg_zip_path.replace(\".zip\", \"\")\n",
    "    os.makedirs(seg_extracted_path, exist_ok=True)\n",
    "    vis.unzip(seg_zip_path, seg_extracted_path)\n",
    "\n",
    "    fps = 12\n",
    "    imgs = parse_video_frames(video_rgb_path)\n",
    "    coco = COCO(labels_path)\n",
    "\n",
    "    bounding_box_path = vis.create_bounding_boxes_video(\n",
    "        os.path.join(output_directory, \"labels_bounding_box.mp4\"), \n",
    "        imgs, \n",
    "        fps, \n",
    "        coco,\n",
    "        add_text=True,\n",
    "    )\n",
    "    \n",
    "    segmentation_path = vis.create_segmentation_video(\n",
    "        os.path.join(output_directory, \"labels_segmentation.mp4\"),\n",
    "        seg_extracted_path,\n",
    "        fps,\n",
    "        imgs.shape[2],\n",
    "        imgs.shape[1]\n",
    "    )\n",
    "    \n",
    "    skeleton_path = vis.create_keypoint_connections_video(\n",
    "        os.path.join(output_directory, \"labels_skeleton.mp4\"), \n",
    "        imgs, \n",
    "        fps, \n",
    "        coco\n",
    "    )\n",
    "\n",
    "    cuboid_path = vis.create_cuboids_video(\n",
    "        os.path.join(output_directory, \"labels_cuboid.mp4\"), \n",
    "        imgs, \n",
    "        fps, \n",
    "        coco\n",
    "    )\n",
    "        \n",
    "    shutil.rmtree(seg_extracted_path)\n",
    "    clear_output()\n",
    "    \n",
    "    print(f\"The resulting label videos can be viewed at:\")\n",
    "    for e in [bounding_box_path, segmentation_path, skeleton_path, cuboid_path]:\n",
    "        print(f\"\\t{e}\")"
   ]
  },
  {
   "cell_type": "code",
   "execution_count": 6,
   "id": "4a5f7576",
   "metadata": {
    "pycharm": {
     "name": "#%%\n"
    }
   },
   "outputs": [
    {
     "name": "stdout",
     "output_type": "stream",
     "text": [
      "The resulting label videos can be viewed at:\n",
      "\t./sample_data/labels_bounding_box.mp4\n",
      "\t./sample_data/labels_segmentation.mp4\n",
      "\t./sample_data/labels_skeleton.mp4\n",
      "\t./sample_data/labels_cuboid.mp4\n"
     ]
    }
   ],
   "source": [
    "video_rgb_path = \"./sample_data/00004.mp4\"\n",
    "visualize_all_labels(video_rgb_path)"
   ]
  },
  {
   "cell_type": "code",
   "execution_count": null,
   "id": "93aa2508",
   "metadata": {},
   "outputs": [],
   "source": []
  }
 ],
 "metadata": {
  "kernelspec": {
   "display_name": "Python 3 (ipykernel)",
   "language": "python",
   "name": "python3"
  },
  "language_info": {
   "codemirror_mode": {
    "name": "ipython",
    "version": 3
   },
   "file_extension": ".py",
   "mimetype": "text/x-python",
   "name": "python",
   "nbconvert_exporter": "python",
   "pygments_lexer": "ipython3",
   "version": "3.9.12"
  }
 },
 "nbformat": 4,
 "nbformat_minor": 5
}
